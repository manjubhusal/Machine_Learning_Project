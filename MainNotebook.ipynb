{
 "cells": [
  {
   "cell_type": "markdown",
   "source": [
    "# Imports"
   ],
   "metadata": {
    "collapsed": false
   },
   "id": "324c86d9c88e2ea8"
  },
  {
   "cell_type": "code",
   "outputs": [],
   "source": [
    "import pandas as pd\n",
    "import numpy as np\n",
    "from sklearn.model_selection import train_test_split\n",
    "import matplotlib.pyplot as plt\n",
    "%matplotlib inline\n",
    "from pprint import pprint"
   ],
   "metadata": {
    "ExecuteTime": {
     "end_time": "2024-02-10T22:01:22.187102100Z",
     "start_time": "2024-02-10T22:01:22.152067100Z"
    }
   },
   "id": "021f8460",
   "execution_count": 370
  },
  {
   "cell_type": "markdown",
   "id": "4549131f",
   "metadata": {},
   "source": [
    "# Load, Prepare and Split Data"
   ]
  },
  {
   "cell_type": "markdown",
   "source": [
    "### Load & Prepare Data"
   ],
   "metadata": {
    "collapsed": false
   },
   "id": "cead142e5524db46"
  },
  {
   "cell_type": "code",
   "outputs": [],
   "source": [
    "df = pd.read_csv('data/train.csv')\n",
    "df_len = len(df)\n",
    "#df.head()\n",
    "\n",
    "# Handling missing / incorrect data\n",
    "# There is no missing or incorrect data, so this will remain empty for now\n",
    "#df.info() "
   ],
   "metadata": {
    "ExecuteTime": {
     "end_time": "2024-02-10T22:01:23.053492700Z",
     "start_time": "2024-02-10T22:01:22.192106800Z"
    }
   },
   "id": "5626f04e",
   "execution_count": 371
  },
  {
   "cell_type": "markdown",
   "source": [
    "### Split Data"
   ],
   "metadata": {
    "collapsed": false
   },
   "id": "b88e7acc2936e9b8"
  },
  {
   "cell_type": "code",
   "outputs": [],
   "source": [
    "training_data, testing_data = train_test_split(df, test_size=0.20, random_state=100, shuffle=True)\n",
    "#training_data.head()"
   ],
   "metadata": {
    "collapsed": false,
    "ExecuteTime": {
     "end_time": "2024-02-10T22:01:23.292788100Z",
     "start_time": "2024-02-10T22:01:23.056495400Z"
    }
   },
   "id": "d9383ad70215add3",
   "execution_count": 372
  },
  {
   "cell_type": "markdown",
   "source": [
    "# Is our data pure?"
   ],
   "metadata": {
    "collapsed": false
   },
   "id": "ed07ec79a2971185"
  },
  {
   "cell_type": "code",
   "outputs": [],
   "source": [
    "def check_purity(data):\n",
    "    label_column = data[:, -1]\n",
    "    unique_classes = np.unique(label_column)\n",
    "\n",
    "    if len(unique_classes) == 2:\n",
    "        return True\n",
    "    else: \n",
    "        return False"
   ],
   "metadata": {
    "collapsed": false,
    "ExecuteTime": {
     "end_time": "2024-02-10T22:01:23.298296900Z",
     "start_time": "2024-02-10T22:01:23.292788100Z"
    }
   },
   "id": "25b2e35f6e48859",
   "execution_count": 373
  },
  {
   "cell_type": "markdown",
   "source": [
    "# Classify"
   ],
   "metadata": {
    "collapsed": false
   },
   "id": "74893ed4ab0312be"
  },
  {
   "cell_type": "code",
   "outputs": [],
   "source": [
    "def classify_data(data):\n",
    "\n",
    "    label_column = data[:, -1]\n",
    "    unique_classes, counts_unique_classes = np.unique(label_column, return_counts=True)\n",
    "\n",
    "    index = counts_unique_classes.argmax()\n",
    "    classification = unique_classes[index]\n",
    "\n",
    "    return classification"
   ],
   "metadata": {
    "collapsed": false,
    "ExecuteTime": {
     "end_time": "2024-02-10T22:01:23.304844200Z",
     "start_time": "2024-02-10T22:01:23.298296900Z"
    }
   },
   "id": "83766a156f7419c0",
   "execution_count": 374
  },
  {
   "cell_type": "markdown",
   "source": [
    "# Potential Splits?"
   ],
   "metadata": {
    "collapsed": false
   },
   "id": "8e4008f0b62d30be"
  },
  {
   "cell_type": "code",
   "outputs": [],
   "source": [
    "def get_potential_splits(data):\n",
    "    \n",
    "    potential_splits = {}\n",
    "    _, n_columns = data.shape\n",
    "    for column_index in range(n_columns - 1):          # excluding the last column which is the label\n",
    "        values = data[:, column_index]\n",
    "        unique_values = np.unique(values)\n",
    "        \n",
    "        type_of_feature = FEATURE_TYPES[column_index]\n",
    "        if type_of_feature == \"continuous\":\n",
    "            potential_splits[column_index] = []\n",
    "            for index in range(len(unique_values)):\n",
    "                if index != 0:\n",
    "                    current_value = unique_values[index]\n",
    "                    previous_value = unique_values[index - 1]\n",
    "                    potential_split = (current_value + previous_value) / 2\n",
    "\n",
    "                    potential_splits[column_index].append(potential_split)\n",
    "        \n",
    "        # feature is categorical\n",
    "        # (there need to be at least 2 unique values, otherwise in the\n",
    "        # split_data function data_below would contain all data points\n",
    "        # and data_above would be empty)\n",
    "        elif len(unique_values) > 1:\n",
    "            potential_splits[column_index] = unique_values\n",
    "    \n",
    "    return potential_splits"
   ],
   "metadata": {
    "collapsed": false,
    "ExecuteTime": {
     "end_time": "2024-02-10T22:01:23.310084Z",
     "start_time": "2024-02-10T22:01:23.302842200Z"
    }
   },
   "id": "1b76d8354e830e8a",
   "execution_count": 375
  },
  {
   "cell_type": "markdown",
   "source": [
    "# Split Data [?]"
   ],
   "metadata": {
    "collapsed": false
   },
   "id": "47b00e5eeccb7530"
  },
  {
   "cell_type": "code",
   "outputs": [],
   "source": [
    "def split_data(data, split_column, split_value):\n",
    "    \n",
    "    split_column_values = data[:, split_column]\n",
    "\n",
    "    type_of_feature = FEATURE_TYPES[split_column]\n",
    "    if type_of_feature == \"continuous\":\n",
    "        data_below = data[split_column_values <= split_value]\n",
    "        data_above = data[split_column_values >  split_value]\n",
    "    \n",
    "    # feature is categorical   \n",
    "    else:\n",
    "        data_below = data[split_column_values == split_value]\n",
    "        data_above = data[split_column_values != split_value]\n",
    "    \n",
    "    return data_below, data_above"
   ],
   "metadata": {
    "collapsed": false,
    "ExecuteTime": {
     "end_time": "2024-02-10T22:01:23.315089100Z",
     "start_time": "2024-02-10T22:01:23.310084Z"
    }
   },
   "id": "e0b56eb94beef16b",
   "execution_count": 376
  },
  {
   "cell_type": "markdown",
   "source": [
    "# Lowest Overall Entropy?"
   ],
   "metadata": {
    "collapsed": false
   },
   "id": "c516fbd9aa0737de"
  },
  {
   "cell_type": "code",
   "outputs": [],
   "source": [
    "def calculate_entropy(data):\n",
    "    \n",
    "    label_column = data[:, -1]\n",
    "    _, counts = np.unique(label_column, return_counts=True)\n",
    "\n",
    "    probabilities = counts / counts.sum()\n",
    "    entropy = sum(probabilities * -np.log2(probabilities))\n",
    "     \n",
    "    return entropy\n",
    "def calculate_overall_entropy(data_below, data_above):\n",
    "    \n",
    "    n = len(data_below) + len(data_above)\n",
    "    p_data_below = len(data_below) / n\n",
    "    p_data_above = len(data_above) / n\n",
    "\n",
    "    overall_entropy =  (p_data_below * calculate_entropy(data_below) \n",
    "                      + p_data_above * calculate_entropy(data_above))\n",
    "    \n",
    "    return overall_entropy\n",
    "def determine_best_split(data, potential_splits):\n",
    "    \n",
    "    overall_entropy = 9999\n",
    "    for column_index in potential_splits:\n",
    "        for value in potential_splits[column_index]:\n",
    "            data_below, data_above = split_data(data, split_column=column_index, split_value=value)\n",
    "            current_overall_entropy = calculate_overall_entropy(data_below, data_above)\n",
    "\n",
    "            if current_overall_entropy <= overall_entropy:\n",
    "                overall_entropy = current_overall_entropy\n",
    "                best_split_column = column_index\n",
    "                best_split_value = value\n",
    "    \n",
    "    return best_split_column, best_split_value"
   ],
   "metadata": {
    "collapsed": false,
    "ExecuteTime": {
     "end_time": "2024-02-10T22:01:23.331883900Z",
     "start_time": "2024-02-10T22:01:23.317091200Z"
    }
   },
   "id": "d863d7688f8c40cc",
   "execution_count": 377
  },
  {
   "cell_type": "markdown",
   "source": [
    "# Decision Tree Algorithm"
   ],
   "metadata": {
    "collapsed": false
   },
   "id": "c9400241b833643b"
  },
  {
   "cell_type": "code",
   "outputs": [],
   "source": [
    "sub_tree = {\"question\": [\"yes_answer\", \n",
    "                         \"no_answer\"]}\n",
    "example_tree = {\"petal_width <= 0.8\": [\"Iris-setosa\", \n",
    "                                      {\"petal_width <= 1.65\": [{\"petal_length <= 4.9\": [\"Iris-versicolor\", \n",
    "                                                                                        \"Iris-virginica\"]}, \n",
    "                                                                \"Iris-virginica\"]}]}"
   ],
   "metadata": {
    "collapsed": false,
    "ExecuteTime": {
     "end_time": "2024-02-10T22:01:23.331883900Z",
     "start_time": "2024-02-10T22:01:23.322168700Z"
    }
   },
   "id": "364330afde866f0a",
   "execution_count": 378
  },
  {
   "cell_type": "code",
   "outputs": [],
   "source": [
    "def determine_type_of_feature(df):\n",
    "    \n",
    "    feature_types = []\n",
    "    n_unique_values_threshold = 15\n",
    "    for feature in df.columns:\n",
    "        if feature != \"label\":\n",
    "            unique_values = df[feature].unique()\n",
    "            example_value = unique_values[0]\n",
    "\n",
    "            if (isinstance(example_value, str)) or (len(unique_values) <= n_unique_values_threshold):\n",
    "                feature_types.append(\"categorical\")\n",
    "            else:\n",
    "                feature_types.append(\"continuous\")\n",
    "    \n",
    "    return feature_types"
   ],
   "metadata": {
    "collapsed": false,
    "ExecuteTime": {
     "end_time": "2024-02-10T22:01:23.332884900Z",
     "start_time": "2024-02-10T22:01:23.327030900Z"
    }
   },
   "id": "dc4d204c7aee959f",
   "execution_count": 379
  },
  {
   "cell_type": "code",
   "outputs": [],
   "source": [
    "def decision_tree_algorithm(df, counter=0, min_samples=2, max_depth=5):\n",
    "    \n",
    "    # data preparations\n",
    "    if counter == 0:\n",
    "        global COLUMN_HEADERS, FEATURE_TYPES\n",
    "        COLUMN_HEADERS = df.columns\n",
    "        FEATURE_TYPES = determine_type_of_feature(df)\n",
    "        data = df.values\n",
    "    else:\n",
    "        data = df           \n",
    "    \n",
    "    \n",
    "    # base cases\n",
    "    if (check_purity(data)) or (len(data) < min_samples) or (counter == max_depth):\n",
    "        classification = classify_data(data)\n",
    "        \n",
    "        return classification\n",
    "\n",
    "    \n",
    "    # recursive part\n",
    "    else:    \n",
    "        counter += 1\n",
    "\n",
    "        # helper functions \n",
    "        potential_splits = get_potential_splits(data)\n",
    "        split_column, split_value = determine_best_split(data, potential_splits)\n",
    "        data_below, data_above = split_data(data, split_column, split_value)\n",
    "        \n",
    "        # determine question\n",
    "        feature_name = COLUMN_HEADERS[split_column]\n",
    "        type_of_feature = FEATURE_TYPES[split_column]\n",
    "        if type_of_feature == \"continuous\":\n",
    "            question = \"{} <= {}\".format(feature_name, split_value)\n",
    "            \n",
    "        # feature is categorical\n",
    "        else:\n",
    "            question = \"{} = {}\".format(feature_name, split_value)\n",
    "        \n",
    "        # instantiate sub-tree\n",
    "        sub_tree = {question: []}\n",
    "        \n",
    "        # find answers (recursion)\n",
    "        yes_answer = decision_tree_algorithm(data_below, counter, min_samples, max_depth)\n",
    "        no_answer = decision_tree_algorithm(data_above, counter, min_samples, max_depth)\n",
    "        \n",
    "        # If the answers are the same, then there is no point in asking the qestion.\n",
    "        # This could happen when the data is classified even though it is not pure\n",
    "        # yet (min_samples or max_depth base case).\n",
    "        if yes_answer == no_answer:\n",
    "            sub_tree = yes_answer\n",
    "        else:\n",
    "            sub_tree[question].append(yes_answer)\n",
    "            sub_tree[question].append(no_answer)\n",
    "        \n",
    "        return sub_tree"
   ],
   "metadata": {
    "collapsed": false,
    "ExecuteTime": {
     "end_time": "2024-02-10T22:01:23.342185Z",
     "start_time": "2024-02-10T22:01:23.334886100Z"
    }
   },
   "id": "6e2b36e7009a072c",
   "execution_count": 380
  },
  {
   "cell_type": "code",
   "outputs": [
    {
     "name": "stdout",
     "output_type": "stream",
     "text": [
      "0\n"
     ]
    }
   ],
   "source": [
    "tree = decision_tree_algorithm(training_data, max_depth=5)\n",
    "pprint(tree, width=50)"
   ],
   "metadata": {
    "collapsed": false,
    "ExecuteTime": {
     "end_time": "2024-02-10T22:01:24.192676600Z",
     "start_time": "2024-02-10T22:01:23.339181100Z"
    }
   },
   "id": "fb268e7504501657",
   "execution_count": 381
  },
  {
   "cell_type": "code",
   "outputs": [],
   "source": [],
   "metadata": {
    "collapsed": false,
    "ExecuteTime": {
     "end_time": "2024-02-10T22:01:24.192676600Z",
     "start_time": "2024-02-10T22:01:24.188958900Z"
    }
   },
   "id": "181605841fef9414",
   "execution_count": 381
  }
 ],
 "metadata": {
  "kernelspec": {
   "display_name": "Python 3 (ipykernel)",
   "language": "python",
   "name": "python3"
  },
  "language_info": {
   "codemirror_mode": {
    "name": "ipython",
    "version": 3
   },
   "file_extension": ".py",
   "mimetype": "text/x-python",
   "name": "python",
   "nbconvert_exporter": "python",
   "pygments_lexer": "ipython3",
   "version": "3.11.5"
  }
 },
 "nbformat": 4,
 "nbformat_minor": 5
}
