{
 "cells": [
  {
   "cell_type": "markdown",
   "source": [
    "# Imports"
   ],
   "metadata": {
    "collapsed": false
   },
   "id": "324c86d9c88e2ea8"
  },
  {
   "cell_type": "code",
   "outputs": [],
   "source": [
    "import pandas as pd\n",
    "import numpy as np\n",
    "from sklearn.model_selection import train_test_split\n",
    "import matplotlib.pyplot as plt\n",
    "%matplotlib inline\n",
    "from pprint import pprint"
   ],
   "metadata": {
    "ExecuteTime": {
     "end_time": "2024-02-11T17:17:57.087855Z",
     "start_time": "2024-02-11T17:17:55.143203600Z"
    }
   },
   "id": "021f8460",
   "execution_count": 5
  },
  {
   "cell_type": "markdown",
   "id": "4549131f",
   "metadata": {},
   "source": [
    "# Load, Prepare and Split Data"
   ]
  },
  {
   "cell_type": "markdown",
   "source": [
    "### Load & Prepare Data"
   ],
   "metadata": {
    "collapsed": false
   },
   "id": "cead142e5524db46"
  },
  {
   "cell_type": "code",
   "outputs": [],
   "source": [
    "# df = pd.read_csv('data/train.csv')\n",
    "# df_len = len(df)\n",
    "#df.head()\n",
    "\n",
    "# Handling missing / incorrect data\n",
    "# There is no missing or incorrect data, so this will remain empty for now\n",
    "#df.info() "
   ],
   "metadata": {
    "ExecuteTime": {
     "end_time": "2024-02-11T17:17:57.087855Z",
     "start_time": "2024-02-11T17:17:57.085114Z"
    }
   },
   "id": "5626f04e",
   "execution_count": 6
  },
  {
   "cell_type": "code",
   "outputs": [],
   "source": [
    "# Titanic dataset\n",
    "df = pd.read_csv(\"data/Titanic.csv\")\n",
    "df[\"label\"] = df.Survived\n",
    "df = df.drop([\"PassengerId\", \"Survived\", \"Name\", \"Ticket\", \"Cabin\"], axis=1)\n",
    "\n",
    "# handling missing values\n",
    "median_age = df.Age.median()\n",
    "mode_embarked = df.Embarked.mode()[0]\n",
    "\n",
    "df = df.fillna({\"Age\": median_age, \"Embarked\": mode_embarked})"
   ],
   "metadata": {
    "collapsed": false,
    "ExecuteTime": {
     "end_time": "2024-02-11T17:17:57.123179200Z",
     "start_time": "2024-02-11T17:17:57.088856600Z"
    }
   },
   "id": "85ecc15ffc42c108",
   "execution_count": 7
  },
  {
   "cell_type": "markdown",
   "source": [
    "### Split Data"
   ],
   "metadata": {
    "collapsed": false
   },
   "id": "b88e7acc2936e9b8"
  },
  {
   "cell_type": "code",
   "outputs": [
    {
     "data": {
      "text/plain": "     Pclass     Sex   Age  SibSp  Parch      Fare Embarked  label\n408       3    male  21.0      0      0    7.7750        S      0\n480       3    male   9.0      5      2   46.9000        S      0\n510       3    male  29.0      0      0    7.7500        Q      1\n609       1  female  40.0      0      0  153.4625        S      1\n547       2    male  28.0      0      0   13.8625        C      1",
      "text/html": "<div>\n<style scoped>\n    .dataframe tbody tr th:only-of-type {\n        vertical-align: middle;\n    }\n\n    .dataframe tbody tr th {\n        vertical-align: top;\n    }\n\n    .dataframe thead th {\n        text-align: right;\n    }\n</style>\n<table border=\"1\" class=\"dataframe\">\n  <thead>\n    <tr style=\"text-align: right;\">\n      <th></th>\n      <th>Pclass</th>\n      <th>Sex</th>\n      <th>Age</th>\n      <th>SibSp</th>\n      <th>Parch</th>\n      <th>Fare</th>\n      <th>Embarked</th>\n      <th>label</th>\n    </tr>\n  </thead>\n  <tbody>\n    <tr>\n      <th>408</th>\n      <td>3</td>\n      <td>male</td>\n      <td>21.0</td>\n      <td>0</td>\n      <td>0</td>\n      <td>7.7750</td>\n      <td>S</td>\n      <td>0</td>\n    </tr>\n    <tr>\n      <th>480</th>\n      <td>3</td>\n      <td>male</td>\n      <td>9.0</td>\n      <td>5</td>\n      <td>2</td>\n      <td>46.9000</td>\n      <td>S</td>\n      <td>0</td>\n    </tr>\n    <tr>\n      <th>510</th>\n      <td>3</td>\n      <td>male</td>\n      <td>29.0</td>\n      <td>0</td>\n      <td>0</td>\n      <td>7.7500</td>\n      <td>Q</td>\n      <td>1</td>\n    </tr>\n    <tr>\n      <th>609</th>\n      <td>1</td>\n      <td>female</td>\n      <td>40.0</td>\n      <td>0</td>\n      <td>0</td>\n      <td>153.4625</td>\n      <td>S</td>\n      <td>1</td>\n    </tr>\n    <tr>\n      <th>547</th>\n      <td>2</td>\n      <td>male</td>\n      <td>28.0</td>\n      <td>0</td>\n      <td>0</td>\n      <td>13.8625</td>\n      <td>C</td>\n      <td>1</td>\n    </tr>\n  </tbody>\n</table>\n</div>"
     },
     "execution_count": 8,
     "metadata": {},
     "output_type": "execute_result"
    }
   ],
   "source": [
    "training_data, testing_data = train_test_split(df, test_size=0.20, random_state=100, shuffle=True)\n",
    "training_data.head()"
   ],
   "metadata": {
    "collapsed": false,
    "ExecuteTime": {
     "end_time": "2024-02-11T17:17:57.138892500Z",
     "start_time": "2024-02-11T17:17:57.120177700Z"
    }
   },
   "id": "d9383ad70215add3",
   "execution_count": 8
  },
  {
   "cell_type": "markdown",
   "source": [
    "# Is our data pure?"
   ],
   "metadata": {
    "collapsed": false
   },
   "id": "ed07ec79a2971185"
  },
  {
   "cell_type": "code",
   "outputs": [],
   "source": [
    "def check_purity(data):\n",
    "    \n",
    "    label_column = data[:, -1]\n",
    "    unique_classes = np.unique(label_column)\n",
    "\n",
    "    if len(unique_classes) == 1:\n",
    "        return True\n",
    "    else:\n",
    "        return False"
   ],
   "metadata": {
    "collapsed": false,
    "ExecuteTime": {
     "end_time": "2024-02-11T17:17:57.138892500Z",
     "start_time": "2024-02-11T17:17:57.134031Z"
    }
   },
   "id": "25b2e35f6e48859",
   "execution_count": 9
  },
  {
   "cell_type": "markdown",
   "source": [
    "# Classify"
   ],
   "metadata": {
    "collapsed": false
   },
   "id": "74893ed4ab0312be"
  },
  {
   "cell_type": "code",
   "outputs": [],
   "source": [
    "def classify_data(data):\n",
    "\n",
    "    label_column = data[:, -1]\n",
    "    unique_classes, counts_unique_classes = np.unique(label_column, return_counts=True)\n",
    "\n",
    "    index = counts_unique_classes.argmax()\n",
    "    classification = unique_classes[index]\n",
    "\n",
    "    return classification"
   ],
   "metadata": {
    "collapsed": false,
    "ExecuteTime": {
     "end_time": "2024-02-11T17:17:57.171528Z",
     "start_time": "2024-02-11T17:17:57.136890600Z"
    }
   },
   "id": "83766a156f7419c0",
   "execution_count": 10
  }
 ],
 "metadata": {
  "kernelspec": {
   "display_name": "Python 3 (ipykernel)",
   "language": "python",
   "name": "python3"
  },
  "language_info": {
   "codemirror_mode": {
    "name": "ipython",
    "version": 3
   },
   "file_extension": ".py",
   "mimetype": "text/x-python",
   "name": "python",
   "nbconvert_exporter": "python",
   "pygments_lexer": "ipython3",
   "version": "3.11.5"
  }
 },
 "nbformat": 4,
 "nbformat_minor": 5
}
