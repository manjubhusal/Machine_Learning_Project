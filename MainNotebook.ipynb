{
 "cells": [
  {
   "cell_type": "markdown",
   "source": [
    "# Imports"
   ],
   "metadata": {
    "collapsed": false
   },
   "id": "324c86d9c88e2ea8"
  },
  {
   "cell_type": "code",
   "outputs": [],
   "source": [
    "import pandas as pd\n",
    "import numpy as np\n",
    "from sklearn.model_selection import train_test_split\n",
    "import matplotlib.pyplot as plt\n",
    "%matplotlib inline\n",
    "from pprint import pprint"
   ],
   "metadata": {
    "ExecuteTime": {
     "end_time": "2024-02-10T19:28:52.224725900Z",
     "start_time": "2024-02-10T19:28:52.209650Z"
    }
   },
   "id": "021f8460",
   "execution_count": 141
  },
  {
   "cell_type": "markdown",
   "id": "4549131f",
   "metadata": {},
   "source": [
    "# Load and Split Data"
   ]
  },
  {
   "cell_type": "code",
   "execution_count": 142,
   "id": "5626f04e",
   "metadata": {
    "ExecuteTime": {
     "end_time": "2024-02-10T19:28:53.110209Z",
     "start_time": "2024-02-10T19:28:52.227729100Z"
    }
   },
   "outputs": [
    {
     "data": {
      "text/plain": "   TransactionID ProductCD  card1  card2  card3       card4  card5   card6  \\\n0              1         C   5812  408.0  185.0  mastercard  224.0   debit   \n1              2         W  12577  268.0  150.0        visa  166.0   debit   \n2              3         H  12581  453.0  150.0        visa  226.0   debit   \n3              4         W   8139  327.0  150.0    discover  194.0  credit   \n4              5         W  16132  111.0  150.0        visa  226.0   debit   \n\n      addr1     addr2  ...    C6   C7   C8    C9  C10    C11  C12    C13  \\\n0  NotFound  NotFound  ...   1.0  1.0  1.0   0.0  0.0    1.0  1.0    1.0   \n1     123.0      87.0  ...  94.0  0.0  0.0  85.0  0.0  104.0  0.0  457.0   \n2     272.0      87.0  ...   1.0  0.0  1.0   0.0  1.0    1.0  0.0    1.0   \n3     204.0      87.0  ...   2.0  0.0  0.0   2.0  0.0    3.0  0.0   18.0   \n4     220.0      87.0  ...   2.0  0.0  0.0   1.0  0.0    1.0  0.0   28.0   \n\n     C14  isFraud  \n0    1.0        0  \n1  120.0        0  \n2    1.0        0  \n3    6.0        0  \n4    1.0        0  \n\n[5 rows x 27 columns]",
      "text/html": "<div>\n<style scoped>\n    .dataframe tbody tr th:only-of-type {\n        vertical-align: middle;\n    }\n\n    .dataframe tbody tr th {\n        vertical-align: top;\n    }\n\n    .dataframe thead th {\n        text-align: right;\n    }\n</style>\n<table border=\"1\" class=\"dataframe\">\n  <thead>\n    <tr style=\"text-align: right;\">\n      <th></th>\n      <th>TransactionID</th>\n      <th>ProductCD</th>\n      <th>card1</th>\n      <th>card2</th>\n      <th>card3</th>\n      <th>card4</th>\n      <th>card5</th>\n      <th>card6</th>\n      <th>addr1</th>\n      <th>addr2</th>\n      <th>...</th>\n      <th>C6</th>\n      <th>C7</th>\n      <th>C8</th>\n      <th>C9</th>\n      <th>C10</th>\n      <th>C11</th>\n      <th>C12</th>\n      <th>C13</th>\n      <th>C14</th>\n      <th>isFraud</th>\n    </tr>\n  </thead>\n  <tbody>\n    <tr>\n      <th>0</th>\n      <td>1</td>\n      <td>C</td>\n      <td>5812</td>\n      <td>408.0</td>\n      <td>185.0</td>\n      <td>mastercard</td>\n      <td>224.0</td>\n      <td>debit</td>\n      <td>NotFound</td>\n      <td>NotFound</td>\n      <td>...</td>\n      <td>1.0</td>\n      <td>1.0</td>\n      <td>1.0</td>\n      <td>0.0</td>\n      <td>0.0</td>\n      <td>1.0</td>\n      <td>1.0</td>\n      <td>1.0</td>\n      <td>1.0</td>\n      <td>0</td>\n    </tr>\n    <tr>\n      <th>1</th>\n      <td>2</td>\n      <td>W</td>\n      <td>12577</td>\n      <td>268.0</td>\n      <td>150.0</td>\n      <td>visa</td>\n      <td>166.0</td>\n      <td>debit</td>\n      <td>123.0</td>\n      <td>87.0</td>\n      <td>...</td>\n      <td>94.0</td>\n      <td>0.0</td>\n      <td>0.0</td>\n      <td>85.0</td>\n      <td>0.0</td>\n      <td>104.0</td>\n      <td>0.0</td>\n      <td>457.0</td>\n      <td>120.0</td>\n      <td>0</td>\n    </tr>\n    <tr>\n      <th>2</th>\n      <td>3</td>\n      <td>H</td>\n      <td>12581</td>\n      <td>453.0</td>\n      <td>150.0</td>\n      <td>visa</td>\n      <td>226.0</td>\n      <td>debit</td>\n      <td>272.0</td>\n      <td>87.0</td>\n      <td>...</td>\n      <td>1.0</td>\n      <td>0.0</td>\n      <td>1.0</td>\n      <td>0.0</td>\n      <td>1.0</td>\n      <td>1.0</td>\n      <td>0.0</td>\n      <td>1.0</td>\n      <td>1.0</td>\n      <td>0</td>\n    </tr>\n    <tr>\n      <th>3</th>\n      <td>4</td>\n      <td>W</td>\n      <td>8139</td>\n      <td>327.0</td>\n      <td>150.0</td>\n      <td>discover</td>\n      <td>194.0</td>\n      <td>credit</td>\n      <td>204.0</td>\n      <td>87.0</td>\n      <td>...</td>\n      <td>2.0</td>\n      <td>0.0</td>\n      <td>0.0</td>\n      <td>2.0</td>\n      <td>0.0</td>\n      <td>3.0</td>\n      <td>0.0</td>\n      <td>18.0</td>\n      <td>6.0</td>\n      <td>0</td>\n    </tr>\n    <tr>\n      <th>4</th>\n      <td>5</td>\n      <td>W</td>\n      <td>16132</td>\n      <td>111.0</td>\n      <td>150.0</td>\n      <td>visa</td>\n      <td>226.0</td>\n      <td>debit</td>\n      <td>220.0</td>\n      <td>87.0</td>\n      <td>...</td>\n      <td>2.0</td>\n      <td>0.0</td>\n      <td>0.0</td>\n      <td>1.0</td>\n      <td>0.0</td>\n      <td>1.0</td>\n      <td>0.0</td>\n      <td>28.0</td>\n      <td>1.0</td>\n      <td>0</td>\n    </tr>\n  </tbody>\n</table>\n<p>5 rows × 27 columns</p>\n</div>"
     },
     "execution_count": 142,
     "metadata": {},
     "output_type": "execute_result"
    }
   ],
   "source": [
    "# Read in the data\n",
    "df = pd.read_csv('data/train.csv')\n",
    "df_len = len(df)\n",
    "df.head()"
   ]
  },
  {
   "cell_type": "code",
   "outputs": [],
   "source": [
    "training_data, testing_data = train_test_split(df, test_size=0.20, random_state=100, shuffle=True)\n",
    "#training_data.head()"
   ],
   "metadata": {
    "collapsed": false,
    "ExecuteTime": {
     "end_time": "2024-02-10T19:28:53.362882200Z",
     "start_time": "2024-02-10T19:28:53.105200300Z"
    }
   },
   "id": "d9383ad70215add3",
   "execution_count": 143
  },
  {
   "cell_type": "code",
   "outputs": [],
   "source": [
    "#testing_data.head()\n",
    "label_column = training_data"
   ],
   "metadata": {
    "collapsed": false,
    "ExecuteTime": {
     "end_time": "2024-02-10T19:28:53.385738400Z",
     "start_time": "2024-02-10T19:28:53.364091700Z"
    }
   },
   "id": "f9e3f497e7582391",
   "execution_count": 144
  },
  {
   "cell_type": "markdown",
   "source": [
    "# Is our data pure?"
   ],
   "metadata": {
    "collapsed": false
   },
   "id": "ed07ec79a2971185"
  },
  {
   "cell_type": "code",
   "outputs": [],
   "source": [
    "def check_purity(data):\n",
    "    label_column = data[:, -1]\n",
    "    unique_classes = np.unique(label_column)\n",
    "    \n",
    "    if len(unique_classes) == 2:\n",
    "        return True\n",
    "    else: \n",
    "        return False"
   ],
   "metadata": {
    "collapsed": false,
    "ExecuteTime": {
     "end_time": "2024-02-10T19:28:53.391743300Z",
     "start_time": "2024-02-10T19:28:53.382226800Z"
    }
   },
   "id": "25b2e35f6e48859",
   "execution_count": 145
  },
  {
   "cell_type": "code",
   "outputs": [
    {
     "data": {
      "text/plain": "True"
     },
     "execution_count": 146,
     "metadata": {},
     "output_type": "execute_result"
    }
   ],
   "source": [
    "check_purity(training_data[training_data.card1 < 5000].values) "
   ],
   "metadata": {
    "collapsed": false,
    "ExecuteTime": {
     "end_time": "2024-02-10T19:28:53.509837100Z",
     "start_time": "2024-02-10T19:28:53.384736200Z"
    }
   },
   "id": "4d92761f691b338b",
   "execution_count": 146
  },
  {
   "cell_type": "markdown",
   "source": [
    "# Classify"
   ],
   "metadata": {
    "collapsed": false
   },
   "id": "74893ed4ab0312be"
  },
  {
   "cell_type": "code",
   "outputs": [],
   "source": [
    "# def classify_data(data):\n",
    "#     \n",
    "#     return classification"
   ],
   "metadata": {
    "collapsed": false,
    "ExecuteTime": {
     "end_time": "2024-02-10T19:28:53.509837100Z",
     "start_time": "2024-02-10T19:28:53.501766300Z"
    }
   },
   "id": "83766a156f7419c0",
   "execution_count": 147
  },
  {
   "cell_type": "code",
   "outputs": [],
   "source": [],
   "metadata": {
    "collapsed": false,
    "ExecuteTime": {
     "end_time": "2024-02-10T19:28:53.509837100Z",
     "start_time": "2024-02-10T19:28:53.505326700Z"
    }
   },
   "id": "381f8d9080a125d8",
   "execution_count": 147
  }
 ],
 "metadata": {
  "kernelspec": {
   "display_name": "Python 3 (ipykernel)",
   "language": "python",
   "name": "python3"
  },
  "language_info": {
   "codemirror_mode": {
    "name": "ipython",
    "version": 3
   },
   "file_extension": ".py",
   "mimetype": "text/x-python",
   "name": "python",
   "nbconvert_exporter": "python",
   "pygments_lexer": "ipython3",
   "version": "3.11.5"
  }
 },
 "nbformat": 4,
 "nbformat_minor": 5
}
